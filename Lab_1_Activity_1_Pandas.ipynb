{
 "cells": [
  {
   "cell_type": "markdown",
   "id": "b3195d40",
   "metadata": {},
   "source": [
    "# ML Lab Activity 1: The Space Mission Roster\n",
    "Data analysis using Pandas."
   ]
  },
  {
   "cell_type": "code",
   "execution_count": null,
   "id": "f88cae22",
   "metadata": {},
   "outputs": [],
   "source": [
    "import pandas as pd\n",
    "\n",
    "# Sample astronaut candidate data\n",
    "data = [\n",
    "    {\"Name\": \"Alice\", \"Country\": \"USA\", \"Experience\": 6, \"Fitness_Score\": 92},\n",
    "    {\"Name\": \"Bob\", \"Country\": \"Canada\", \"Experience\": 4, \"Fitness_Score\": 88},\n",
    "    {\"Name\": \"Charlie\", \"Country\": \"UK\", \"Experience\": 2, \"Fitness_Score\": 85},\n",
    "    {\"Name\": \"Diana\", \"Country\": \"India\", \"Experience\": 7, \"Fitness_Score\": 91},\n",
    "    {\"Name\": \"Ethan\", \"Country\": \"Australia\", \"Experience\": 5, \"Fitness_Score\": 89}\n",
    "]\n",
    "\n",
    "# Create DataFrame\n",
    "df = pd.DataFrame(data)\n",
    "df"
   ]
  },
  {
   "cell_type": "code",
   "execution_count": null,
   "id": "c450b139",
   "metadata": {},
   "outputs": [],
   "source": [
    "# Basic details\n",
    "print(\"Shape:\", df.shape)\n",
    "print(\"Columns:\", df.columns.tolist())\n",
    "print(\"\\nSummary Statistics:\\n\", df.describe())"
   ]
  },
  {
   "cell_type": "code",
   "execution_count": null,
   "id": "a50790d4",
   "metadata": {},
   "outputs": [],
   "source": [
    "# Filter astronauts\n",
    "filtered_df = df[(df['Experience'] > 5) & (df['Fitness_Score'] > 87)]\n",
    "filtered_df"
   ]
  },
  {
   "cell_type": "code",
   "execution_count": null,
   "id": "f72ea086",
   "metadata": {},
   "outputs": [],
   "source": [
    "# Evaluation function\n",
    "def evaluate_candidate(row):\n",
    "    if row['Fitness_Score'] >= 90 and row['Experience'] >= 5:\n",
    "        return \"Excellent\"\n",
    "    elif 80 <= row['Fitness_Score'] <= 89 or row['Experience'] >= 3:\n",
    "        return \"Good\"\n",
    "    else:\n",
    "        return \"Average\"\n",
    "\n",
    "# Add Evaluation column\n",
    "df['Evaluation'] = df.apply(evaluate_candidate, axis=1)\n",
    "df"
   ]
  },
  {
   "cell_type": "code",
   "execution_count": null,
   "id": "6d3c8a6e",
   "metadata": {},
   "outputs": [],
   "source": [
    "# Sort by Fitness_Score descending\n",
    "df_sorted = df.sort_values(by='Fitness_Score', ascending=False)\n",
    "df_sorted"
   ]
  },
  {
   "cell_type": "code",
   "execution_count": null,
   "id": "92ac78c2",
   "metadata": {},
   "outputs": [],
   "source": [
    "# Top 3 candidates\n",
    "top_3 = df_sorted.head(3)\n",
    "top_3"
   ]
  },
  {
   "cell_type": "code",
   "execution_count": null,
   "id": "43bb62ba",
   "metadata": {},
   "outputs": [],
   "source": [
    "# Bonus: Average fitness score per country\n",
    "avg_fitness_by_country = df.groupby('Country')['Fitness_Score'].mean().to_dict()\n",
    "avg_fitness_by_country"
   ]
  }
 ],
 "metadata": {
  "kernelspec": {
   "display_name": "Python 3 (ipykernel)",
   "language": "python",
   "name": "python3"
  },
  "language_info": {
   "codemirror_mode": {
    "name": "ipython",
    "version": 3
   },
   "file_extension": ".py",
   "mimetype": "text/x-python",
   "name": "python",
   "nbconvert_exporter": "python",
   "pygments_lexer": "ipython3",
   "version": "3.12.3"
  }
 },
 "nbformat": 4,
 "nbformat_minor": 5
}
