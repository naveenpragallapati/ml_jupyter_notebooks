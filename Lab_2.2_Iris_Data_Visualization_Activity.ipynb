{
 "cells": [
  {
   "cell_type": "markdown",
   "id": "a6d62033",
   "metadata": {},
   "source": [
    "# Activity-2: Data Visualization"
   ]
  },
  {
   "cell_type": "markdown",
   "id": "1909dc35",
   "metadata": {},
   "source": [
    "**Objective:** Create various plots to visualize data from the Iris dataset."
   ]
  },
  {
   "cell_type": "code",
   "execution_count": null,
   "id": "e3ad5d91",
   "metadata": {},
   "outputs": [],
   "source": [
    "# Load the Iris dataset\n",
    "from sklearn.datasets import load_iris\n",
    "import pandas as pd\n",
    "import matplotlib.pyplot as plt\n",
    "import seaborn as sns\n",
    "%matplotlib inline\n",
    "\n",
    "iris = load_iris()\n",
    "df = pd.DataFrame(data=iris.data, columns=iris.feature_names)\n",
    "df['species'] = pd.Categorical.from_codes(iris.target, iris.target_names)\n",
    "df.head()"
   ]
  },
  {
   "cell_type": "code",
   "execution_count": null,
   "id": "fbaed2d3",
   "metadata": {},
   "outputs": [],
   "source": [
    "# Scatter plot: Sepal Length vs Sepal Width\n",
    "plt.figure(figsize=(8, 5))\n",
    "sns.scatterplot(data=df, x='sepal length (cm)', y='sepal width (cm)', hue='species')\n",
    "plt.title('Sepal Length vs Sepal Width')\n",
    "plt.show()"
   ]
  },
  {
   "cell_type": "code",
   "execution_count": null,
   "id": "3065eb71",
   "metadata": {},
   "outputs": [],
   "source": [
    "# Histogram: Petal Length\n",
    "plt.figure(figsize=(8, 5))\n",
    "sns.histplot(df['petal length (cm)'], bins=20, kde=True, color='skyblue')\n",
    "plt.title('Distribution of Petal Length')\n",
    "plt.xlabel('Petal Length (cm)')\n",
    "plt.show()"
   ]
  },
  {
   "cell_type": "code",
   "execution_count": null,
   "id": "91582984",
   "metadata": {},
   "outputs": [],
   "source": [
    "# Box Plot: Species vs Petal Width\n",
    "plt.figure(figsize=(8, 5))\n",
    "sns.boxplot(x='species', y='petal width (cm)', data=df, hue='species', palette='Set2', legend=False)\n",
    "plt.title('Box Plot of Petal Width by Species')\n",
    "plt.show()"
   ]
  },
  {
   "cell_type": "code",
   "execution_count": null,
   "id": "5616b0e7-b756-478d-aa17-80e246cc34bd",
   "metadata": {},
   "outputs": [],
   "source": [
    "# Melt the DataFrame to plot all features in one boxplot for outlier detection\n",
    "df_melted = df.melt(id_vars='species', var_name='Feature', value_name='Value')\n",
    "plt.figure(figsize=(12, 8))\n",
    "sns.boxplot(x='Feature', y='Value', data=df_melted)\n",
    "plt.title('Boxplot for Outlier Detection Across Features')\n",
    "plt.xticks(rotation=45)\n",
    "plt.show()\n"
   ]
  },
  {
   "cell_type": "code",
   "execution_count": null,
   "id": "03905236-8825-4220-8873-081ebd3e7ec2",
   "metadata": {},
   "outputs": [],
   "source": [
    "# Correlation heatmap\n",
    "plt.figure(figsize=(10, 6))\n",
    "corr = df.iloc[:, :-1].corr()\n",
    "sns.heatmap(corr, annot=True, cmap='coolwarm', fmt='.2f')\n",
    "plt.title('Correlation Heatmap of Iris Features')\n",
    "plt.show()"
   ]
  },
  {
   "cell_type": "code",
   "execution_count": null,
   "id": "1b80056a-fac5-4313-987d-13dd4a247cd2",
   "metadata": {},
   "outputs": [],
   "source": []
  }
 ],
 "metadata": {
  "kernelspec": {
   "display_name": "Python 3 (ipykernel)",
   "language": "python",
   "name": "python3"
  },
  "language_info": {
   "codemirror_mode": {
    "name": "ipython",
    "version": 3
   },
   "file_extension": ".py",
   "mimetype": "text/x-python",
   "name": "python",
   "nbconvert_exporter": "python",
   "pygments_lexer": "ipython3",
   "version": "3.12.3"
  }
 },
 "nbformat": 4,
 "nbformat_minor": 5
}
