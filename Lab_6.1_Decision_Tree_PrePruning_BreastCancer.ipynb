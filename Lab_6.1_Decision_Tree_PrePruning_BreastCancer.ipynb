{
 "cells": [
  {
   "cell_type": "markdown",
   "id": "e785596a",
   "metadata": {},
   "source": [
    "# 🌲 Decision Tree Classifier with Pre-Pruning"
   ]
  },
  {
   "cell_type": "code",
   "execution_count": null,
   "id": "479a0e10",
   "metadata": {},
   "outputs": [],
   "source": [
    "from sklearn.datasets import load_breast_cancer\n",
    "from sklearn.tree import DecisionTreeClassifier, plot_tree\n",
    "from sklearn.model_selection import train_test_split\n",
    "from sklearn.metrics import accuracy_score, classification_report, confusion_matrix\n",
    "import matplotlib.pyplot as plt\n",
    "import pandas as pd"
   ]
  },
  {
   "cell_type": "code",
   "execution_count": null,
   "id": "e30a89aa-c794-47d0-b0ef-f5eacad3431f",
   "metadata": {},
   "outputs": [],
   "source": [
    "# Load dataset\n",
    "data = load_breast_cancer()\n",
    "X = pd.DataFrame(data.data, columns=data.feature_names)\n",
    "y = pd.Series(data.target)"
   ]
  },
  {
   "cell_type": "code",
   "execution_count": null,
   "id": "636b6a43-183f-4fa3-aa6a-6ad634fc72aa",
   "metadata": {},
   "outputs": [],
   "source": [
    "# Split dataset\n",
    "X_train, X_test, y_train, y_test = train_test_split(X, y, test_size=0.3, random_state=42)"
   ]
  },
  {
   "cell_type": "code",
   "execution_count": null,
   "id": "2c5cabc5-bd6b-4527-9fdc-60a82ff194b7",
   "metadata": {},
   "outputs": [],
   "source": [
    "# Pre-Pruned Decision Tree\n",
    "clf_pruned = DecisionTreeClassifier(max_depth=4, min_samples_leaf=5, random_state=0)\n",
    "clf_pruned.fit(X_train, y_train)"
   ]
  },
  {
   "cell_type": "code",
   "execution_count": null,
   "id": "a06fe1d0-197b-46fd-b7fe-de5eef97666b",
   "metadata": {},
   "outputs": [],
   "source": [
    "# Prediction and Evaluation\n",
    "y_pred = clf_pruned.predict(X_test)\n",
    "print(\"Accuracy:\", accuracy_score(y_test, y_pred))\n",
    "print(\"Classification Report:\\n\", classification_report(y_test, y_pred))\n",
    "print(\"Confusion Matrix:\\n\", confusion_matrix(y_test, y_pred))"
   ]
  },
  {
   "cell_type": "code",
   "execution_count": null,
   "id": "6f5e2113-b306-4ade-9392-305774b19a6d",
   "metadata": {},
   "outputs": [],
   "source": [
    "# Visualization\n",
    "plt.figure(figsize=(16, 8))\n",
    "plot_tree(clf_pruned, filled=True, feature_names=data.feature_names, class_names=data.target_names)\n",
    "plt.title(\"Decision Tree (Pre-Pruned)\")\n",
    "plt.show()"
   ]
  }
 ],
 "metadata": {
  "kernelspec": {
   "display_name": "Python 3 (ipykernel)",
   "language": "python",
   "name": "python3"
  },
  "language_info": {
   "codemirror_mode": {
    "name": "ipython",
    "version": 3
   },
   "file_extension": ".py",
   "mimetype": "text/x-python",
   "name": "python",
   "nbconvert_exporter": "python",
   "pygments_lexer": "ipython3",
   "version": "3.12.3"
  }
 },
 "nbformat": 4,
 "nbformat_minor": 5
}
