{
 "cells": [
  {
   "cell_type": "markdown",
   "id": "70c2cc6f",
   "metadata": {},
   "source": [
    "# 🌲 Decision Tree Classifier with Post-Pruning (Cost Complexity Pruning)"
   ]
  },
  {
   "cell_type": "code",
   "execution_count": null,
   "id": "a4427440",
   "metadata": {},
   "outputs": [],
   "source": [
    "from sklearn.datasets import load_breast_cancer\n",
    "from sklearn.tree import DecisionTreeClassifier, plot_tree\n",
    "from sklearn.model_selection import train_test_split\n",
    "from sklearn.metrics import accuracy_score, classification_report, confusion_matrix\n",
    "import matplotlib.pyplot as plt\n",
    "import pandas as pd"
   ]
  },
  {
   "cell_type": "code",
   "execution_count": null,
   "id": "0060aa88-c0ac-4832-a8e6-0b4d24ee1b71",
   "metadata": {},
   "outputs": [],
   "source": [
    "# Load dataset\n",
    "data = load_breast_cancer()\n",
    "X = pd.DataFrame(data.data, columns=data.feature_names)\n",
    "y = pd.Series(data.target)"
   ]
  },
  {
   "cell_type": "code",
   "execution_count": null,
   "id": "85092332-b80b-42c5-9bd5-1656098c896d",
   "metadata": {},
   "outputs": [],
   "source": [
    "# Split dataset\n",
    "X_train, X_test, y_train, y_test = train_test_split(X, y, test_size=0.3, random_state=42)"
   ]
  },
  {
   "cell_type": "code",
   "execution_count": null,
   "id": "8ac0c9f1-5c4b-4d74-8100-17b0b92be16f",
   "metadata": {},
   "outputs": [],
   "source": [
    "# Initial model to get pruning path\n",
    "clf = DecisionTreeClassifier(random_state=0)\n",
    "clf.fit(X_train, y_train)\n",
    "path = clf.cost_complexity_pruning_path(X_train, y_train)\n",
    "ccp_alphas = path.ccp_alphas[:-1]\n",
    "\n",
    "clfs = []\n",
    "for alpha in ccp_alphas:\n",
    "    clf = DecisionTreeClassifier(random_state=0, ccp_alpha=alpha)\n",
    "    clf.fit(X_train, y_train)\n",
    "    clfs.append(clf)\n",
    "\n",
    "# Accuracy plots\n",
    "train_scores = [clf.score(X_train, y_train) for clf in clfs]\n",
    "test_scores = [clf.score(X_test, y_test) for clf in clfs]\n",
    "\n",
    "plt.figure(figsize=(10, 6))\n",
    "plt.plot(ccp_alphas, train_scores, marker='o', label='Train Accuracy', drawstyle=\"steps-post\")\n",
    "plt.plot(ccp_alphas, test_scores, marker='o', label='Test Accuracy', drawstyle=\"steps-post\")\n",
    "plt.xlabel(\"ccp_alpha\")\n",
    "plt.ylabel(\"Accuracy\")\n",
    "plt.title(\"Accuracy vs ccp_alpha\")\n",
    "plt.legend()\n",
    "plt.grid(True)\n",
    "plt.show()"
   ]
  },
  {
   "cell_type": "code",
   "execution_count": null,
   "id": "c38df69a-59e5-40d1-8a88-6efad37a20d3",
   "metadata": {},
   "outputs": [],
   "source": [
    "# Best model\n",
    "best_index = test_scores.index(max(test_scores))\n",
    "best_alpha = ccp_alphas[best_index]\n",
    "best_clf = clfs[best_index]\n",
    "y_pred_post = best_clf.predict(X_test)\n",
    "\n",
    "print(f\"Best ccp_alpha: {best_alpha}\")\n",
    "print(\"Accuracy:\", accuracy_score(y_test, y_pred_post))\n",
    "print(\"Classification Report:\\n\", classification_report(y_test, y_pred_post))\n",
    "print(\"Confusion Matrix:\\n\", confusion_matrix(y_test, y_pred_post))"
   ]
  },
  {
   "cell_type": "code",
   "execution_count": null,
   "id": "e40ea6fc-54d2-4234-adb5-12508d9b4d10",
   "metadata": {},
   "outputs": [],
   "source": [
    "# Visualize post-pruned tree\n",
    "plt.figure(figsize=(16, 8))\n",
    "plot_tree(best_clf, filled=True, feature_names=data.feature_names, class_names=data.target_names)\n",
    "plt.title(f\"Decision Tree (Post-Pruned, ccp_alpha={best_alpha:.5f})\")\n",
    "plt.show()"
   ]
  }
 ],
 "metadata": {
  "kernelspec": {
   "display_name": "Python 3 (ipykernel)",
   "language": "python",
   "name": "python3"
  },
  "language_info": {
   "codemirror_mode": {
    "name": "ipython",
    "version": 3
   },
   "file_extension": ".py",
   "mimetype": "text/x-python",
   "name": "python",
   "nbconvert_exporter": "python",
   "pygments_lexer": "ipython3",
   "version": "3.12.3"
  }
 },
 "nbformat": 4,
 "nbformat_minor": 5
}
