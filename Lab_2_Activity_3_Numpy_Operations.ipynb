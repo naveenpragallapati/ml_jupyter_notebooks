{
 "cells": [
  {
   "cell_type": "code",
   "execution_count": null,
   "id": "f2c7cad7-1e7e-43f9-9b2e-57dad4541572",
   "metadata": {},
   "outputs": [],
   "source": [
    "# Import NumPy\n",
    "import numpy as np"
   ]
  },
  {
   "cell_type": "code",
   "execution_count": null,
   "id": "a3ec7bf5-e74e-4b3b-a2fa-861a356dcb5b",
   "metadata": {},
   "outputs": [],
   "source": [
    "# Create a 3x4 NumPy array of random integers between 1 and 100\n",
    "array = np.random.randint(1, 100, size=(3, 4))\n",
    "print(\"Original Array:\")\n",
    "print(array)"
   ]
  },
  {
   "cell_type": "code",
   "execution_count": null,
   "id": "6cd90bd2-b26f-4b71-9d75-297ec2ee0abe",
   "metadata": {},
   "outputs": [],
   "source": [
    "# Calculate mean, median, and standard deviation\n",
    "mean_val = np.mean(array)\n",
    "median_val = np.median(array)\n",
    "std_val = np.std(array)\n",
    "\n",
    "print(f\"Mean: {mean_val}\")\n",
    "print(f\"Median: {median_val}\")\n",
    "print(f\"Standard Deviation: {std_val}\")"
   ]
  },
  {
   "cell_type": "code",
   "execution_count": null,
   "id": "c81c00b2-5928-475e-9e53-2424c0287ff8",
   "metadata": {},
   "outputs": [],
   "source": [
    "# Element-wise operations\n",
    "add_result = array + 10\n",
    "mult_result = array * 2\n",
    "\n",
    "print(\"Array after adding 10 to each element:\")\n",
    "print(add_result)\n",
    "\n",
    "print(\"Array after multiplying each element by 2:\")\n",
    "print(mult_result)"
   ]
  },
  {
   "cell_type": "code",
   "execution_count": null,
   "id": "6429e446-1c8a-4bd2-a07d-57e4bae35fac",
   "metadata": {},
   "outputs": [],
   "source": [
    "# Reshape the array and perform matrix multiplication\n",
    "reshaped_array = array.reshape(4, 3)\n",
    "print(\"Reshaped Array (4x3):\")\n",
    "print(reshaped_array)\n",
    "\n",
    "# Matrix multiplication (3x4) @ (4x3) = (3x3)\n",
    "result = np.matmul(array, reshaped_array)\n",
    "print(\"Matrix Multiplication Result:\")\n",
    "print(result)"
   ]
  },
  {
   "cell_type": "code",
   "execution_count": null,
   "id": "501a5b5b-ee8e-4ef1-8fa3-0eff1e0804d0",
   "metadata": {},
   "outputs": [],
   "source": []
  }
 ],
 "metadata": {
  "kernelspec": {
   "display_name": "Python 3 (ipykernel)",
   "language": "python",
   "name": "python3"
  },
  "language_info": {
   "codemirror_mode": {
    "name": "ipython",
    "version": 3
   },
   "file_extension": ".py",
   "mimetype": "text/x-python",
   "name": "python",
   "nbconvert_exporter": "python",
   "pygments_lexer": "ipython3",
   "version": "3.12.3"
  }
 },
 "nbformat": 4,
 "nbformat_minor": 5
}
