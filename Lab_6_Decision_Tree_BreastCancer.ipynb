{
 "cells": [
  {
   "cell_type": "markdown",
   "id": "313bebfc",
   "metadata": {},
   "source": [
    "\n",
    "ML Lab Activity 5: Decision Tree Classification without Pruning\n",
    "\n",
    "Problem: Classifying Breast Cancer Tumors (Malignant vs. Benign)\n",
    "\n",
    "Objective:\n",
    "Train a Decision Tree classifier on the Breast Cancer dataset, apply pruning, and evaluate the model using accuracy, confusion matrix, precision, recall, and F1-score.\n"
   ]
  },
  {
   "cell_type": "code",
   "execution_count": null,
   "id": "497474da",
   "metadata": {},
   "outputs": [],
   "source": [
    "from sklearn.datasets import load_breast_cancer\n",
    "from sklearn.tree import DecisionTreeClassifier, plot_tree\n",
    "from sklearn.model_selection import train_test_split\n",
    "from sklearn.metrics import classification_report, confusion_matrix, accuracy_score\n",
    "import matplotlib.pyplot as plt\n",
    "import pandas as pd\n",
    "import seaborn as sns\n",
    "\n",
    "# Load the dataset\n",
    "data = load_breast_cancer()\n",
    "X = pd.DataFrame(data.data, columns=data.feature_names)\n",
    "y = pd.Series(data.target)"
   ]
  },
  {
   "cell_type": "code",
   "execution_count": null,
   "id": "890be1b2",
   "metadata": {},
   "outputs": [],
   "source": [
    "# Show first few rows and class distribution\n",
    "print(X.head())\n",
    "print(\"\\nTarget labels:\", data.target_names)\n",
    "print(\"Class distribution:\\n\", y.value_counts())"
   ]
  },
  {
   "cell_type": "code",
   "execution_count": null,
   "id": "27a9de70",
   "metadata": {},
   "outputs": [],
   "source": [
    "# Split the datasets into train and test data\n",
    "X_train, X_test, y_train, y_test = train_test_split(X, y, test_size=0.3, random_state=42)"
   ]
  },
  {
   "cell_type": "code",
   "execution_count": null,
   "id": "a97c22b8",
   "metadata": {},
   "outputs": [],
   "source": [
    "# Train the Decicion Tree\n",
    "clf = DecisionTreeClassifier(random_state=42)\n",
    "clf.fit(X_train, y_train)\n",
    "y_pred = clf.predict(X_test)"
   ]
  },
  {
   "cell_type": "code",
   "execution_count": null,
   "id": "0a0b070b",
   "metadata": {},
   "outputs": [],
   "source": [
    "# Visualize the Decision Tree\n",
    "plt.figure(figsize=(20,10))\n",
    "plot_tree(clf, filled=True, feature_names=data.feature_names, class_names=data.target_names)\n",
    "plt.title(\"Decision Tree (No Pruning)\")\n",
    "plt.show()"
   ]
  },
  {
   "cell_type": "code",
   "execution_count": null,
   "id": "d2e206ab-b78f-425a-b104-f9b9301a47ad",
   "metadata": {},
   "outputs": [],
   "source": [
    "#Evualation Metrix\n",
    "print(\"Accuracy (no pruning):\", accuracy_score(y_test, y_pred))\n",
    "print(\"\\nClassification Report:\\n\", classification_report(y_test, y_pred))\n",
    "print(\"Confusion Matrix:\\n\", confusion_matrix(y_test, y_pred))"
   ]
  }
 ],
 "metadata": {
  "kernelspec": {
   "display_name": "Python 3 (ipykernel)",
   "language": "python",
   "name": "python3"
  },
  "language_info": {
   "codemirror_mode": {
    "name": "ipython",
    "version": 3
   },
   "file_extension": ".py",
   "mimetype": "text/x-python",
   "name": "python",
   "nbconvert_exporter": "python",
   "pygments_lexer": "ipython3",
   "version": "3.12.3"
  }
 },
 "nbformat": 4,
 "nbformat_minor": 5
}
